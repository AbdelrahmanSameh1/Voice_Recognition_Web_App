{
 "cells": [
  {
   "cell_type": "code",
   "execution_count": 1,
   "metadata": {},
   "outputs": [],
   "source": [
    "from functions import * "
   ]
  },
  {
   "cell_type": "code",
   "execution_count": 2,
   "metadata": {},
   "outputs": [
    {
     "name": "stderr",
     "output_type": "stream",
     "text": [
      "c:\\Users\\Abdelrahman Sameh\\Downloads\\Final_Dsp_Task_3\\functions.py:68: WavFileWarning: Chunk (non-data) not understood, skipping it.\n",
      "  sr, audio = read(file_path)\n",
      "c:\\Users\\Abdelrahman Sameh\\Downloads\\Final_Dsp_Task_3\\functions.py:68: WavFileWarning: Chunk (non-data) not understood, skipping it.\n",
      "  sr, audio = read(file_path)\n",
      "c:\\Users\\Abdelrahman Sameh\\Downloads\\Final_Dsp_Task_3\\functions.py:68: WavFileWarning: Chunk (non-data) not understood, skipping it.\n",
      "  sr, audio = read(file_path)\n",
      "c:\\Users\\Abdelrahman Sameh\\Downloads\\Final_Dsp_Task_3\\functions.py:68: WavFileWarning: Chunk (non-data) not understood, skipping it.\n",
      "  sr, audio = read(file_path)\n",
      "c:\\Users\\Abdelrahman Sameh\\Downloads\\Final_Dsp_Task_3\\functions.py:68: WavFileWarning: Chunk (non-data) not understood, skipping it.\n",
      "  sr, audio = read(file_path)\n",
      "c:\\Users\\Abdelrahman Sameh\\Downloads\\Final_Dsp_Task_3\\functions.py:68: WavFileWarning: Chunk (non-data) not understood, skipping it.\n",
      "  sr, audio = read(file_path)\n",
      "c:\\Users\\Abdelrahman Sameh\\Downloads\\Final_Dsp_Task_3\\functions.py:68: WavFileWarning: Chunk (non-data) not understood, skipping it.\n",
      "  sr, audio = read(file_path)\n",
      "c:\\Users\\Abdelrahman Sameh\\Downloads\\Final_Dsp_Task_3\\functions.py:68: WavFileWarning: Chunk (non-data) not understood, skipping it.\n",
      "  sr, audio = read(file_path)\n",
      "c:\\Users\\Abdelrahman Sameh\\Downloads\\Final_Dsp_Task_3\\functions.py:68: WavFileWarning: Chunk (non-data) not understood, skipping it.\n",
      "  sr, audio = read(file_path)\n",
      "c:\\Users\\Abdelrahman Sameh\\Downloads\\Final_Dsp_Task_3\\functions.py:68: WavFileWarning: Chunk (non-data) not understood, skipping it.\n",
      "  sr, audio = read(file_path)\n",
      "c:\\Users\\Abdelrahman Sameh\\Downloads\\Final_Dsp_Task_3\\functions.py:68: WavFileWarning: Chunk (non-data) not understood, skipping it.\n",
      "  sr, audio = read(file_path)\n",
      "c:\\Users\\Abdelrahman Sameh\\Downloads\\Final_Dsp_Task_3\\functions.py:68: WavFileWarning: Chunk (non-data) not understood, skipping it.\n",
      "  sr, audio = read(file_path)\n",
      "c:\\Users\\Abdelrahman Sameh\\Downloads\\Final_Dsp_Task_3\\functions.py:68: WavFileWarning: Chunk (non-data) not understood, skipping it.\n",
      "  sr, audio = read(file_path)\n",
      "c:\\Users\\Abdelrahman Sameh\\Downloads\\Final_Dsp_Task_3\\functions.py:68: WavFileWarning: Chunk (non-data) not understood, skipping it.\n",
      "  sr, audio = read(file_path)\n",
      "c:\\Users\\Abdelrahman Sameh\\Downloads\\Final_Dsp_Task_3\\functions.py:68: WavFileWarning: Chunk (non-data) not understood, skipping it.\n",
      "  sr, audio = read(file_path)\n",
      "c:\\Users\\Abdelrahman Sameh\\Downloads\\Final_Dsp_Task_3\\functions.py:68: WavFileWarning: Chunk (non-data) not understood, skipping it.\n",
      "  sr, audio = read(file_path)\n",
      "c:\\Users\\Abdelrahman Sameh\\Downloads\\Final_Dsp_Task_3\\functions.py:68: WavFileWarning: Chunk (non-data) not understood, skipping it.\n",
      "  sr, audio = read(file_path)\n",
      "c:\\Users\\Abdelrahman Sameh\\Downloads\\Final_Dsp_Task_3\\functions.py:68: WavFileWarning: Chunk (non-data) not understood, skipping it.\n",
      "  sr, audio = read(file_path)\n",
      "c:\\Users\\Abdelrahman Sameh\\Downloads\\Final_Dsp_Task_3\\functions.py:68: WavFileWarning: Chunk (non-data) not understood, skipping it.\n",
      "  sr, audio = read(file_path)\n",
      "c:\\Users\\Abdelrahman Sameh\\Downloads\\Final_Dsp_Task_3\\functions.py:68: WavFileWarning: Chunk (non-data) not understood, skipping it.\n",
      "  sr, audio = read(file_path)\n",
      "c:\\Users\\Abdelrahman Sameh\\Downloads\\Final_Dsp_Task_3\\functions.py:68: WavFileWarning: Chunk (non-data) not understood, skipping it.\n",
      "  sr, audio = read(file_path)\n",
      "c:\\Users\\Abdelrahman Sameh\\Downloads\\Final_Dsp_Task_3\\functions.py:68: WavFileWarning: Chunk (non-data) not understood, skipping it.\n",
      "  sr, audio = read(file_path)\n",
      "c:\\Users\\Abdelrahman Sameh\\Downloads\\Final_Dsp_Task_3\\functions.py:68: WavFileWarning: Chunk (non-data) not understood, skipping it.\n",
      "  sr, audio = read(file_path)\n",
      "c:\\Users\\Abdelrahman Sameh\\Downloads\\Final_Dsp_Task_3\\functions.py:68: WavFileWarning: Chunk (non-data) not understood, skipping it.\n",
      "  sr, audio = read(file_path)\n",
      "c:\\Users\\Abdelrahman Sameh\\Downloads\\Final_Dsp_Task_3\\functions.py:68: WavFileWarning: Chunk (non-data) not understood, skipping it.\n",
      "  sr, audio = read(file_path)\n",
      "c:\\Users\\Abdelrahman Sameh\\Downloads\\Final_Dsp_Task_3\\functions.py:68: WavFileWarning: Chunk (non-data) not understood, skipping it.\n",
      "  sr, audio = read(file_path)\n",
      "c:\\Users\\Abdelrahman Sameh\\Downloads\\Final_Dsp_Task_3\\functions.py:68: WavFileWarning: Chunk (non-data) not understood, skipping it.\n",
      "  sr, audio = read(file_path)\n",
      "c:\\Users\\Abdelrahman Sameh\\Downloads\\Final_Dsp_Task_3\\functions.py:68: WavFileWarning: Chunk (non-data) not understood, skipping it.\n",
      "  sr, audio = read(file_path)\n",
      "c:\\Users\\Abdelrahman Sameh\\Downloads\\Final_Dsp_Task_3\\functions.py:68: WavFileWarning: Chunk (non-data) not understood, skipping it.\n",
      "  sr, audio = read(file_path)\n"
     ]
    }
   ],
   "source": [
    "directroyAmr = 'RecordsData/Amr/'\n",
    "directroySameh ='RecordsData/Sameh/'\n",
    "directroyBeshara ='RecordsData/Beshara/'\n",
    "featuresSameh = extractFromFile(directroySameh)\n",
    "featuresAmr = extractFromFile(directroyAmr)\n",
    "featuresBeshara = extractFromFile(directroyBeshara)"
   ]
  },
  {
   "cell_type": "code",
   "execution_count": 3,
   "metadata": {},
   "outputs": [],
   "source": [
    "from sklearn.mixture import GaussianMixture \n",
    "\n",
    "amr_gmm = generateModel('amr_gmm', featuresAmr,'Amr')\n",
    "beshara_gmm = generateModel('beshara_gmm', featuresBeshara,'Beshara')\n",
    "sameh_gmm = generateModel('sameh_gmm',featuresSameh,'Sameh')\n"
   ]
  },
  {
   "cell_type": "code",
   "execution_count": 4,
   "metadata": {},
   "outputs": [
    {
     "name": "stderr",
     "output_type": "stream",
     "text": [
      "c:\\Users\\Abdelrahman Sameh\\Downloads\\Final_Dsp_Task_3\\functions.py:68: WavFileWarning: Chunk (non-data) not understood, skipping it.\n",
      "  sr, audio = read(file_path)\n"
     ]
    },
    {
     "ename": "FileNotFoundError",
     "evalue": "[Errno 2] No such file or directory: 'RecordsData/Beshara/Beshara_openTheDoor  (2).wav'",
     "output_type": "error",
     "traceback": [
      "\u001b[1;31m---------------------------------------------------------------------------\u001b[0m",
      "\u001b[1;31mFileNotFoundError\u001b[0m                         Traceback (most recent call last)",
      "Cell \u001b[1;32mIn [4], line 2\u001b[0m\n\u001b[0;32m      1\u001b[0m testA \u001b[39m=\u001b[39m extract_features(\u001b[39m'\u001b[39m\u001b[39mRecordsData/Amr/Amr_openTheDoor (20).wav\u001b[39m\u001b[39m'\u001b[39m)\n\u001b[1;32m----> 2\u001b[0m testB \u001b[39m=\u001b[39m extract_features(\u001b[39m'\u001b[39;49m\u001b[39mRecordsData/Beshara/Beshara_openTheDoor  (2).wav\u001b[39;49m\u001b[39m'\u001b[39;49m)\n\u001b[0;32m      3\u001b[0m testS \u001b[39m=\u001b[39m extract_features(\u001b[39m'\u001b[39m\u001b[39mRecordsData/Sameh/Sameh_openTheDoor (1).wav\u001b[39m\u001b[39m'\u001b[39m)\n\u001b[0;32m      5\u001b[0m \u001b[39m# print(testF)\u001b[39;00m\n",
      "File \u001b[1;32mc:\\Users\\Abdelrahman Sameh\\Downloads\\Final_Dsp_Task_3\\functions.py:68\u001b[0m, in \u001b[0;36mextract_features\u001b[1;34m(file_path)\u001b[0m\n\u001b[0;32m     63\u001b[0m \u001b[39mdef\u001b[39;00m \u001b[39mextract_features\u001b[39m(file_path):\n\u001b[0;32m     64\u001b[0m     \u001b[39m# audio , sample_rate = librosa.load(file_path, mono=True, duration=2)\u001b[39;00m\n\u001b[0;32m     65\u001b[0m     \u001b[39m# print(np.shape(audio))\u001b[39;00m\n\u001b[0;32m     66\u001b[0m     \u001b[39m# y,index=librosa.effects.trim(audio,top_db=55)\u001b[39;00m\n\u001b[0;32m     67\u001b[0m     \u001b[39m# audio = y[index[0]:index[1]]\u001b[39;00m\n\u001b[1;32m---> 68\u001b[0m     sr, audio \u001b[39m=\u001b[39m read(file_path)\n\u001b[0;32m     69\u001b[0m     mfcc_feature \u001b[39m=\u001b[39m mfcc\u001b[39m.\u001b[39mmfcc(audio, sr, \u001b[39m0.025\u001b[39m, \u001b[39m0.01\u001b[39m,\n\u001b[0;32m     70\u001b[0m                              \u001b[39m20\u001b[39m, nfft\u001b[39m=\u001b[39m\u001b[39m1200\u001b[39m, appendEnergy\u001b[39m=\u001b[39m\u001b[39mTrue\u001b[39;00m)\n\u001b[0;32m     71\u001b[0m     mfcc_feature \u001b[39m=\u001b[39m preprocessing\u001b[39m.\u001b[39mscale(mfcc_feature)\n",
      "File \u001b[1;32mc:\\Users\\Abdelrahman Sameh\\AppData\\Local\\Programs\\Python\\Python310\\lib\\site-packages\\scipy\\io\\wavfile.py:647\u001b[0m, in \u001b[0;36mread\u001b[1;34m(filename, mmap)\u001b[0m\n\u001b[0;32m    645\u001b[0m     mmap \u001b[39m=\u001b[39m \u001b[39mFalse\u001b[39;00m\n\u001b[0;32m    646\u001b[0m \u001b[39melse\u001b[39;00m:\n\u001b[1;32m--> 647\u001b[0m     fid \u001b[39m=\u001b[39m \u001b[39mopen\u001b[39;49m(filename, \u001b[39m'\u001b[39;49m\u001b[39mrb\u001b[39;49m\u001b[39m'\u001b[39;49m)\n\u001b[0;32m    649\u001b[0m \u001b[39mtry\u001b[39;00m:\n\u001b[0;32m    650\u001b[0m     file_size, is_big_endian \u001b[39m=\u001b[39m _read_riff_chunk(fid)\n",
      "\u001b[1;31mFileNotFoundError\u001b[0m: [Errno 2] No such file or directory: 'RecordsData/Beshara/Beshara_openTheDoor  (2).wav'"
     ]
    }
   ],
   "source": [
    "testA = extract_features('RecordsData/Amr/Amr_openTheDoor (20).wav')\n",
    "testB = extract_features('RecordsData/Beshara/Beshara_openTheDoor  (2).wav')\n",
    "testS = extract_features('RecordsData/Sameh/Sameh_openTheDoor (1).wav')\n",
    "\n",
    "# print(testF)\n",
    "x = testB\n",
    "\n",
    "# scores_1 = np.array(amr_gmm.score(x))\n",
    "scores_2 = np.array(beshara_gmm.score(x))\n",
    "# scores_3 = np.array(sameh_gmm.score(x))\n",
    "\n",
    "# print(\"amr {}\",scores_1)\n",
    "print(\"beshara {}\",scores_2)\n",
    "# print(\"sameh {}\",scores_3)\n"
   ]
  },
  {
   "cell_type": "code",
   "execution_count": null,
   "metadata": {},
   "outputs": [],
   "source": [
    "lstFolders = ['Amr', 'Beshara', 'Sameh']\n",
    "models = [joblib.load(f + '.gmm') for f in lstFolders]"
   ]
  },
  {
   "cell_type": "code",
   "execution_count": null,
   "metadata": {},
   "outputs": [
    {
     "name": "stderr",
     "output_type": "stream",
     "text": [
      "c:\\Users\\Abdelrahman Sameh\\Downloads\\Password_Task_3\\functions.py:62: WavFileWarning: Chunk (non-data) not understood, skipping it.\n",
      "  sr, audio = read(file_path)\n",
      "c:\\Users\\Abdelrahman Sameh\\Downloads\\Password_Task_3\\functions.py:62: WavFileWarning: Chunk (non-data) not understood, skipping it.\n",
      "  sr, audio = read(file_path)\n",
      "c:\\Users\\Abdelrahman Sameh\\Downloads\\Password_Task_3\\functions.py:62: WavFileWarning: Chunk (non-data) not understood, skipping it.\n",
      "  sr, audio = read(file_path)\n",
      "c:\\Users\\Abdelrahman Sameh\\Downloads\\Password_Task_3\\functions.py:62: WavFileWarning: Chunk (non-data) not understood, skipping it.\n",
      "  sr, audio = read(file_path)\n",
      "c:\\Users\\Abdelrahman Sameh\\Downloads\\Password_Task_3\\functions.py:62: WavFileWarning: Chunk (non-data) not understood, skipping it.\n",
      "  sr, audio = read(file_path)\n",
      "c:\\Users\\Abdelrahman Sameh\\Downloads\\Password_Task_3\\functions.py:62: WavFileWarning: Chunk (non-data) not understood, skipping it.\n",
      "  sr, audio = read(file_path)\n",
      "c:\\Users\\Abdelrahman Sameh\\Downloads\\Password_Task_3\\functions.py:62: WavFileWarning: Chunk (non-data) not understood, skipping it.\n",
      "  sr, audio = read(file_path)\n",
      "c:\\Users\\Abdelrahman Sameh\\Downloads\\Password_Task_3\\functions.py:62: WavFileWarning: Chunk (non-data) not understood, skipping it.\n",
      "  sr, audio = read(file_path)\n",
      "c:\\Users\\Abdelrahman Sameh\\Downloads\\Password_Task_3\\functions.py:62: WavFileWarning: Chunk (non-data) not understood, skipping it.\n",
      "  sr, audio = read(file_path)\n",
      "c:\\Users\\Abdelrahman Sameh\\Downloads\\Password_Task_3\\functions.py:62: WavFileWarning: Chunk (non-data) not understood, skipping it.\n",
      "  sr, audio = read(file_path)\n",
      "c:\\Users\\Abdelrahman Sameh\\Downloads\\Password_Task_3\\functions.py:62: WavFileWarning: Chunk (non-data) not understood, skipping it.\n",
      "  sr, audio = read(file_path)\n",
      "c:\\Users\\Abdelrahman Sameh\\Downloads\\Password_Task_3\\functions.py:62: WavFileWarning: Chunk (non-data) not understood, skipping it.\n",
      "  sr, audio = read(file_path)\n",
      "c:\\Users\\Abdelrahman Sameh\\Downloads\\Password_Task_3\\functions.py:62: WavFileWarning: Chunk (non-data) not understood, skipping it.\n",
      "  sr, audio = read(file_path)\n",
      "c:\\Users\\Abdelrahman Sameh\\Downloads\\Password_Task_3\\functions.py:62: WavFileWarning: Chunk (non-data) not understood, skipping it.\n",
      "  sr, audio = read(file_path)\n",
      "c:\\Users\\Abdelrahman Sameh\\Downloads\\Password_Task_3\\functions.py:62: WavFileWarning: Chunk (non-data) not understood, skipping it.\n",
      "  sr, audio = read(file_path)\n",
      "c:\\Users\\Abdelrahman Sameh\\Downloads\\Password_Task_3\\functions.py:62: WavFileWarning: Chunk (non-data) not understood, skipping it.\n",
      "  sr, audio = read(file_path)\n",
      "c:\\Users\\Abdelrahman Sameh\\Downloads\\Password_Task_3\\functions.py:62: WavFileWarning: Chunk (non-data) not understood, skipping it.\n",
      "  sr, audio = read(file_path)\n",
      "c:\\Users\\Abdelrahman Sameh\\Downloads\\Password_Task_3\\functions.py:62: WavFileWarning: Chunk (non-data) not understood, skipping it.\n",
      "  sr, audio = read(file_path)\n",
      "c:\\Users\\Abdelrahman Sameh\\Downloads\\Password_Task_3\\functions.py:62: WavFileWarning: Chunk (non-data) not understood, skipping it.\n",
      "  sr, audio = read(file_path)\n",
      "c:\\Users\\Abdelrahman Sameh\\Downloads\\Password_Task_3\\functions.py:62: WavFileWarning: Chunk (non-data) not understood, skipping it.\n",
      "  sr, audio = read(file_path)\n",
      "c:\\Users\\Abdelrahman Sameh\\Downloads\\Password_Task_3\\functions.py:62: WavFileWarning: Chunk (non-data) not understood, skipping it.\n",
      "  sr, audio = read(file_path)\n",
      "c:\\Users\\Abdelrahman Sameh\\Downloads\\Password_Task_3\\functions.py:62: WavFileWarning: Chunk (non-data) not understood, skipping it.\n",
      "  sr, audio = read(file_path)\n",
      "c:\\Users\\Abdelrahman Sameh\\Downloads\\Password_Task_3\\functions.py:62: WavFileWarning: Chunk (non-data) not understood, skipping it.\n",
      "  sr, audio = read(file_path)\n",
      "c:\\Users\\Abdelrahman Sameh\\Downloads\\Password_Task_3\\functions.py:62: WavFileWarning: Chunk (non-data) not understood, skipping it.\n",
      "  sr, audio = read(file_path)\n",
      "c:\\Users\\Abdelrahman Sameh\\Downloads\\Password_Task_3\\functions.py:62: WavFileWarning: Chunk (non-data) not understood, skipping it.\n",
      "  sr, audio = read(file_path)\n",
      "c:\\Users\\Abdelrahman Sameh\\Downloads\\Password_Task_3\\functions.py:62: WavFileWarning: Chunk (non-data) not understood, skipping it.\n",
      "  sr, audio = read(file_path)\n",
      "c:\\Users\\Abdelrahman Sameh\\Downloads\\Password_Task_3\\functions.py:62: WavFileWarning: Chunk (non-data) not understood, skipping it.\n",
      "  sr, audio = read(file_path)\n",
      "c:\\Users\\Abdelrahman Sameh\\Downloads\\Password_Task_3\\functions.py:62: WavFileWarning: Chunk (non-data) not understood, skipping it.\n",
      "  sr, audio = read(file_path)\n",
      "c:\\Users\\Abdelrahman Sameh\\Downloads\\Password_Task_3\\functions.py:62: WavFileWarning: Chunk (non-data) not understood, skipping it.\n",
      "  sr, audio = read(file_path)\n"
     ]
    }
   ],
   "source": [
    "y = []\n",
    "y_true = []\n",
    "lstFolders = ['Amr', 'Beshara', 'Sameh']\n",
    "\n",
    "for folder in lstFolders:\n",
    "    # try:\n",
    "        lstFiles = glob.glob('RecordsData/{}/*'.format(folder))\n",
    "        for f in lstFiles:\n",
    "            # sr,audio = read(f)\n",
    "            vstack = extract_features(f)\n",
    "            output = []\n",
    "            for model in models:\n",
    "                scores = np.array(model.score(vstack))\n",
    "                output.append(scores.sum())\n",
    "\n",
    "            winner = np.argmax(output)\n",
    "            y_true.append(winner)\n",
    "            y.append(lstFolders.index(folder))"
   ]
  },
  {
   "cell_type": "code",
   "execution_count": null,
   "metadata": {},
   "outputs": [
    {
     "data": {
      "text/plain": [
       "1.0"
      ]
     },
     "execution_count": 21,
     "metadata": {},
     "output_type": "execute_result"
    }
   ],
   "source": [
    "f1_score(y, y_true, average='micro')"
   ]
  },
  {
   "cell_type": "code",
   "execution_count": null,
   "metadata": {},
   "outputs": [],
   "source": []
  }
 ],
 "metadata": {
  "kernelspec": {
   "display_name": "Python 3",
   "language": "python",
   "name": "python3"
  },
  "language_info": {
   "codemirror_mode": {
    "name": "ipython",
    "version": 3
   },
   "file_extension": ".py",
   "mimetype": "text/x-python",
   "name": "python",
   "nbconvert_exporter": "python",
   "pygments_lexer": "ipython3",
   "version": "3.10.8 (tags/v3.10.8:aaaf517, Oct 11 2022, 16:50:30) [MSC v.1933 64 bit (AMD64)]"
  },
  "orig_nbformat": 4,
  "vscode": {
   "interpreter": {
    "hash": "9df2f0cff93666c3a74956dd6f5108d381b3edb9add42ef1cdd99448cd7f2ffd"
   }
  }
 },
 "nbformat": 4,
 "nbformat_minor": 2
}
